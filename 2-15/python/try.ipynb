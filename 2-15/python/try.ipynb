{
 "cells": [
  {
   "cell_type": "code",
   "execution_count": 1,
   "metadata": {},
   "outputs": [],
   "source": [
    "import trimesh"
   ]
  },
  {
   "cell_type": "code",
   "execution_count": 2,
   "metadata": {},
   "outputs": [
    {
     "data": {
      "text/plain": [
       "{'vertices': array([[ -54.95834,   13.14464, -142.9948 ],\n",
       "        [ -54.09875,   11.36495, -142.4299 ],\n",
       "        [ -54.61994,   12.79026, -141.2199 ],\n",
       "        ...,\n",
       "        [ -28.19123,   12.78776, -463.6837 ],\n",
       "        [ -80.5303 ,   20.94626,   16.77612],\n",
       "        [ -71.37321,  -38.71428, -132.9476 ]]),\n",
       " 'faces': array([[    0,     1,     2],\n",
       "        [    3,     4,     5],\n",
       "        [    6,     7,     8],\n",
       "        ...,\n",
       "        [62080, 61671, 62247],\n",
       "        [62233, 61080, 62248],\n",
       "        [61080, 61818, 62248]], dtype=int64)}"
      ]
     },
     "execution_count": 2,
     "metadata": {},
     "output_type": "execute_result"
    }
   ],
   "source": [
    "file_obj = open(\"..\\\\data\\\\ad.off\", 'r', encoding=\"utf-8\")\n",
    "\n",
    "ad = trimesh.exchange.off.load_off(file_obj)\n",
    "ad\n",
    "\n"
   ]
  },
  {
   "cell_type": "code",
   "execution_count": 3,
   "metadata": {},
   "outputs": [
    {
     "data": {
      "text/plain": [
       "<trimesh.Trimesh(vertices.shape=(62249, 3), faces.shape=(124502, 3))>"
      ]
     },
     "execution_count": 3,
     "metadata": {},
     "output_type": "execute_result"
    }
   ],
   "source": [
    "ad_vert = ad['vertices']\n",
    "ad_faces = ad['faces']\n",
    "\n",
    "ad_mesh = trimesh.Trimesh(ad_vert,ad_faces)\n",
    "ad_mesh"
   ]
  },
  {
   "attachments": {},
   "cell_type": "markdown",
   "metadata": {},
   "source": [
    "### 试用一下这个transform"
   ]
  },
  {
   "cell_type": "code",
   "execution_count": 4,
   "metadata": {},
   "outputs": [],
   "source": [
    "# ad_fullCloud = ad_mesh.apply_transform()\n",
    "# ad_fullCloud   ->一坨屎"
   ]
  }
 ],
 "metadata": {
  "kernelspec": {
   "display_name": "Python 3",
   "language": "python",
   "name": "python3"
  },
  "language_info": {
   "codemirror_mode": {
    "name": "ipython",
    "version": 3
   },
   "file_extension": ".py",
   "mimetype": "text/x-python",
   "name": "python",
   "nbconvert_exporter": "python",
   "pygments_lexer": "ipython3",
   "version": "3.9.1"
  },
  "orig_nbformat": 4,
  "vscode": {
   "interpreter": {
    "hash": "343c0a9bb0206b8d4748b7ea14945434d6ca4efe71b4f4fbf89872213bd697b0"
   }
  }
 },
 "nbformat": 4,
 "nbformat_minor": 2
}
