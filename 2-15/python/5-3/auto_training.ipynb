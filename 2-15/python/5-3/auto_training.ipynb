{
 "cells": [
  {
   "attachments": {},
   "cell_type": "markdown",
   "metadata": {},
   "source": [
    "#### 这个文件是用来自动对ply逐一训练并生成skeleton的，需要把它放置在Point2Skeleton的同级路径内，另外，同级还应有vertex_count.pkl文件\n",
    "##### 记得data/pointclouds/里面要有pulmonaryArterys_ply这个文件夹！"
   ]
  },
  {
   "cell_type": "code",
   "execution_count": 1,
   "metadata": {},
   "outputs": [],
   "source": [
    "import pickle\n",
    "import subprocess\n"
   ]
  },
  {
   "cell_type": "code",
   "execution_count": 2,
   "metadata": {},
   "outputs": [
    {
     "name": "stdout",
     "output_type": "stream",
     "text": [
      "\n",
      "dict getted!\n",
      " len(dict):465\n"
     ]
    }
   ],
   "source": [
    "#事前准备：建立存放结果的文件夹\n",
    "result = subprocess.run(f\"mkdir ./all_results\",shell=True,stdout=subprocess.PIPE)\n",
    "print(result.stdout.decode('utf-8'))\n",
    "\n",
    "# 获取字典\n",
    "with open(\"vertex_count.pkl\",\"rb\") as f:\n",
    "    ply_verts_dictXXXXX = pickle.load(f)\n",
    "print(f\"dict getted!\\n len(dict):{len(ply_verts_dictXXXXX)}\")"
   ]
  },
  {
   "cell_type": "code",
   "execution_count": 3,
   "metadata": {},
   "outputs": [
    {
     "data": {
      "text/plain": [
       "{'s0004_pulmonary_artery.nii.g_1.ply': 7748,\n",
       " 's0011_pulmonary_artery.nii.g_1.ply': 7866,\n",
       " 's0019_pulmonary_artery.nii.g_1.ply': 6854,\n",
       " 's0021_pulmonary_artery.nii.g_1.ply': 8302}"
      ]
     },
     "execution_count": 3,
     "metadata": {},
     "output_type": "execute_result"
    }
   ],
   "source": [
    "#截短dict，用作测试\n",
    "def dict_slice(adict, start, end):\n",
    "    keys = adict.keys()\n",
    "    dict_slice = {}\n",
    "    for k in list(keys)[start:end]:\n",
    "        dict_slice[k] = adict[k]\n",
    "    return dict_slice\n",
    "\n",
    "ply_verts_dict = dict_slice(ply_verts_dictXXXXX,0,4)\n",
    "ply_verts_dict"
   ]
  },
  {
   "cell_type": "code",
   "execution_count": 4,
   "metadata": {},
   "outputs": [
    {
     "name": "stdout",
     "output_type": "stream",
     "text": [
      "\n",
      "results/,weights/ and training-weights/ : CLEARED.\n",
      "\n"
     ]
    }
   ],
   "source": [
    "#清空results，weights和training-weights文件夹\n",
    "result = subprocess.run(\"rm -rf ./Point2Skeleton/results/* ./Point2Skeleton/weights/* ./Point2Skeleton/training-weights/*\",shell=True,stdout=subprocess.PIPE)\n",
    "print(result.stdout.decode('utf-8'))\n",
    "\n",
    "print(\"results/,weights/ and training-weights/ : CLEARED.\\n\")"
   ]
  },
  {
   "cell_type": "code",
   "execution_count": 5,
   "metadata": {},
   "outputs": [
    {
     "name": "stderr",
     "output_type": "stream",
     "text": [
      "Traceback (most recent call last):\n",
      "  File \"train.py\", line 127, in <module>\n",
      "    print('epoch, iter:', epoch, iter)\n",
      "BrokenPipeError: [Errno 32] Broken pipe\n"
     ]
    },
    {
     "ename": "KeyboardInterrupt",
     "evalue": "",
     "output_type": "error",
     "traceback": [
      "\u001b[0;31m---------------------------------------------------------------------------\u001b[0m",
      "\u001b[0;31mKeyboardInterrupt\u001b[0m                         Traceback (most recent call last)",
      "\u001b[0;32m/tmp/ipykernel_1598/49069121.py\u001b[0m in \u001b[0;36m<module>\u001b[0;34m\u001b[0m\n\u001b[1;32m      6\u001b[0m \u001b[0;34m\u001b[0m\u001b[0m\n\u001b[1;32m      7\u001b[0m     \u001b[0;31m#执行train.py\u001b[0m\u001b[0;34m\u001b[0m\u001b[0;34m\u001b[0m\u001b[0;34m\u001b[0m\u001b[0m\n\u001b[0;32m----> 8\u001b[0;31m     \u001b[0mresult\u001b[0m \u001b[0;34m=\u001b[0m \u001b[0msubprocess\u001b[0m\u001b[0;34m.\u001b[0m\u001b[0mrun\u001b[0m\u001b[0;34m(\u001b[0m\u001b[0;34mf\"cd ./Point2Skeleton/src/;python train.py --pc_list_file ../data/data-split/all-train.txt --data_root ../data/pointclouds/ --point_num {v} --skelpoint_num 100 --gpu 0\"\u001b[0m\u001b[0;34m,\u001b[0m\u001b[0mshell\u001b[0m\u001b[0;34m=\u001b[0m\u001b[0;32mTrue\u001b[0m\u001b[0;34m,\u001b[0m\u001b[0mstdout\u001b[0m\u001b[0;34m=\u001b[0m\u001b[0msubprocess\u001b[0m\u001b[0;34m.\u001b[0m\u001b[0mPIPE\u001b[0m\u001b[0;34m)\u001b[0m\u001b[0;34m\u001b[0m\u001b[0;34m\u001b[0m\u001b[0m\n\u001b[0m\u001b[1;32m      9\u001b[0m     \u001b[0mprint\u001b[0m\u001b[0;34m(\u001b[0m\u001b[0mresult\u001b[0m\u001b[0;34m.\u001b[0m\u001b[0mstdout\u001b[0m\u001b[0;34m.\u001b[0m\u001b[0mdecode\u001b[0m\u001b[0;34m(\u001b[0m\u001b[0;34m'utf-8'\u001b[0m\u001b[0;34m)\u001b[0m\u001b[0;34m)\u001b[0m\u001b[0;34m\u001b[0m\u001b[0;34m\u001b[0m\u001b[0m\n\u001b[1;32m     10\u001b[0m \u001b[0;34m\u001b[0m\u001b[0m\n",
      "\u001b[0;32m~/anaconda3/envs/p2s/lib/python3.7/subprocess.py\u001b[0m in \u001b[0;36mrun\u001b[0;34m(input, capture_output, timeout, check, *popenargs, **kwargs)\u001b[0m\n\u001b[1;32m    488\u001b[0m     \u001b[0;32mwith\u001b[0m \u001b[0mPopen\u001b[0m\u001b[0;34m(\u001b[0m\u001b[0;34m*\u001b[0m\u001b[0mpopenargs\u001b[0m\u001b[0;34m,\u001b[0m \u001b[0;34m**\u001b[0m\u001b[0mkwargs\u001b[0m\u001b[0;34m)\u001b[0m \u001b[0;32mas\u001b[0m \u001b[0mprocess\u001b[0m\u001b[0;34m:\u001b[0m\u001b[0;34m\u001b[0m\u001b[0;34m\u001b[0m\u001b[0m\n\u001b[1;32m    489\u001b[0m         \u001b[0;32mtry\u001b[0m\u001b[0;34m:\u001b[0m\u001b[0;34m\u001b[0m\u001b[0;34m\u001b[0m\u001b[0m\n\u001b[0;32m--> 490\u001b[0;31m             \u001b[0mstdout\u001b[0m\u001b[0;34m,\u001b[0m \u001b[0mstderr\u001b[0m \u001b[0;34m=\u001b[0m \u001b[0mprocess\u001b[0m\u001b[0;34m.\u001b[0m\u001b[0mcommunicate\u001b[0m\u001b[0;34m(\u001b[0m\u001b[0minput\u001b[0m\u001b[0;34m,\u001b[0m \u001b[0mtimeout\u001b[0m\u001b[0;34m=\u001b[0m\u001b[0mtimeout\u001b[0m\u001b[0;34m)\u001b[0m\u001b[0;34m\u001b[0m\u001b[0;34m\u001b[0m\u001b[0m\n\u001b[0m\u001b[1;32m    491\u001b[0m         \u001b[0;32mexcept\u001b[0m \u001b[0mTimeoutExpired\u001b[0m \u001b[0;32mas\u001b[0m \u001b[0mexc\u001b[0m\u001b[0;34m:\u001b[0m\u001b[0;34m\u001b[0m\u001b[0;34m\u001b[0m\u001b[0m\n\u001b[1;32m    492\u001b[0m             \u001b[0mprocess\u001b[0m\u001b[0;34m.\u001b[0m\u001b[0mkill\u001b[0m\u001b[0;34m(\u001b[0m\u001b[0;34m)\u001b[0m\u001b[0;34m\u001b[0m\u001b[0;34m\u001b[0m\u001b[0m\n",
      "\u001b[0;32m~/anaconda3/envs/p2s/lib/python3.7/subprocess.py\u001b[0m in \u001b[0;36mcommunicate\u001b[0;34m(self, input, timeout)\u001b[0m\n\u001b[1;32m    949\u001b[0m                 \u001b[0mself\u001b[0m\u001b[0;34m.\u001b[0m\u001b[0m_stdin_write\u001b[0m\u001b[0;34m(\u001b[0m\u001b[0minput\u001b[0m\u001b[0;34m)\u001b[0m\u001b[0;34m\u001b[0m\u001b[0;34m\u001b[0m\u001b[0m\n\u001b[1;32m    950\u001b[0m             \u001b[0;32melif\u001b[0m \u001b[0mself\u001b[0m\u001b[0;34m.\u001b[0m\u001b[0mstdout\u001b[0m\u001b[0;34m:\u001b[0m\u001b[0;34m\u001b[0m\u001b[0;34m\u001b[0m\u001b[0m\n\u001b[0;32m--> 951\u001b[0;31m                 \u001b[0mstdout\u001b[0m \u001b[0;34m=\u001b[0m \u001b[0mself\u001b[0m\u001b[0;34m.\u001b[0m\u001b[0mstdout\u001b[0m\u001b[0;34m.\u001b[0m\u001b[0mread\u001b[0m\u001b[0;34m(\u001b[0m\u001b[0;34m)\u001b[0m\u001b[0;34m\u001b[0m\u001b[0;34m\u001b[0m\u001b[0m\n\u001b[0m\u001b[1;32m    952\u001b[0m                 \u001b[0mself\u001b[0m\u001b[0;34m.\u001b[0m\u001b[0mstdout\u001b[0m\u001b[0;34m.\u001b[0m\u001b[0mclose\u001b[0m\u001b[0;34m(\u001b[0m\u001b[0;34m)\u001b[0m\u001b[0;34m\u001b[0m\u001b[0;34m\u001b[0m\u001b[0m\n\u001b[1;32m    953\u001b[0m             \u001b[0;32melif\u001b[0m \u001b[0mself\u001b[0m\u001b[0;34m.\u001b[0m\u001b[0mstderr\u001b[0m\u001b[0;34m:\u001b[0m\u001b[0;34m\u001b[0m\u001b[0;34m\u001b[0m\u001b[0m\n",
      "\u001b[0;31mKeyboardInterrupt\u001b[0m: "
     ]
    }
   ],
   "source": [
    "#循环开始：\n",
    "for k,v in ply_verts_dict.items():\n",
    "    #更改\"Point2Skeleton/data/data-split/all-train.txt\"\n",
    "    with open(\"./Point2Skeleton/data/data-split/all-train.txt\",\"w\") as f:\n",
    "        f.write(f\"pulmonaryArterys_ply/{k[:-4]}\\n\"*32)\n",
    "\n",
    "    #执行train.py\n",
    "    result = subprocess.run(f\"cd ./Point2Skeleton/src/;python train.py --pc_list_file ../data/data-split/all-train.txt --data_root ../data/pointclouds/ --point_num {v} --skelpoint_num 100 --gpu 0\",shell=True,stdout=subprocess.PIPE)\n",
    "    print(result.stdout.decode('utf-8'))\n",
    "\n",
    "    #移动training-weights文件夹里的文件到weights文件夹\n",
    "    result = subprocess.run(\"mv ./Point2Skeleton/training-weights/* ./Point2Skeleton/weights/\",shell=True,stdout=subprocess.PIPE)\n",
    "    print(result.stdout.decode('utf-8'))\n",
    "\n",
    "    #更改\"Point2Skeleton/data/data-split/all-test.txt\"\n",
    "    with open(\"./Point2Skeleton/data/data-split/all-test.txt\",\"w\") as f:\n",
    "        f.write(f\"pulmonaryArterys_ply/{k[:-4]}\")\n",
    "\n",
    "    #执行test.py\n",
    "    result = subprocess.run(f\"cd ./Point2Skeleton/src/;python test.py --pc_list_file ../data/data-split/all-test.txt --data_root ../data/pointclouds/ --point_num {v} --skelpoint_num 100 --gpu 0 --load_skelnet_path ../weights/weights-skelpoint.pth --load_gae_path ../weights/weights-gae.pth --save_result_path ../results/\",shell=True,stdout=subprocess.PIPE)\n",
    "    print(result.stdout.decode('utf-8'))\n",
    "\n",
    "    #从Point2Skeleton/data/pointclouds/pulmonaryArterys_ply里找到原文件，复制其并放入result文件夹。\n",
    "    result = subprocess.run(f\"cp ./Point2Skeleton/data/pointclouds/pulmonaryArterys_ply/{k} ./Point2Skeleton/results/\",shell=True,stdout=subprocess.PIPE)\n",
    "    print(result.stdout.decode('utf-8'))\n",
    "    \n",
    "    #把weights文件夹里的内容移入result文件夹\n",
    "    result = subprocess.run(f\"mv ./Point2Skeleton/weights/* ./Point2Skeleton/results/\",shell=True,stdout=subprocess.PIPE)\n",
    "    print(result.stdout.decode('utf-8'))\n",
    "    #再将result文件夹的内容全部移动到一个叫all_results/s***_pulmonaryArterys的新文件夹里面\n",
    "    result = subprocess.run(f\"mkdir ./all_results/{k[:-4]}/;mv ./Point2Skeleton/results/* ./all_results/{k[:-4]}/\",shell=True,stdout=subprocess.PIPE)\n",
    "    print(result.stdout.decode('utf-8'))\n"
   ]
  }
 ],
 "metadata": {
  "kernelspec": {
   "display_name": "p2s",
   "language": "python",
   "name": "python3"
  },
  "language_info": {
   "codemirror_mode": {
    "name": "ipython",
    "version": 3
   },
   "file_extension": ".py",
   "mimetype": "text/x-python",
   "name": "python",
   "nbconvert_exporter": "python",
   "pygments_lexer": "ipython3",
   "version": "3.7.12"
  },
  "orig_nbformat": 4
 },
 "nbformat": 4,
 "nbformat_minor": 2
}
