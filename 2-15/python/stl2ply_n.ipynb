{
 "cells": [
  {
   "cell_type": "code",
   "execution_count": 1,
   "metadata": {},
   "outputs": [],
   "source": [
    "import os\n",
    "import trimesh\n",
    "import smalltools as st"
   ]
  },
  {
   "cell_type": "code",
   "execution_count": 24,
   "metadata": {},
   "outputs": [],
   "source": [
    "fileList = os.listdir(\"../data/4-10/stls/\")\n",
    "\n",
    "for item in fileList:\n",
    "    main_name = item[0:-4]\n",
    "\n",
    "    # 读取文件并形成字典\n",
    "    with open(\"../data/4-10/stls/\"+item,\"r\",encoding=\"utf-8\") as f_obj:\n",
    "        file_dict = trimesh.exchange.stl.load_stl(f_obj)\n",
    "\n",
    "    # 把点挑出来作变换：归一化\n",
    "    file_dict[\"vertices\"] = st.pc_normalize(file_dict[\"vertices\"])\n",
    "\n",
    "    # 把归一化后的点用来形成Trimesh类\n",
    "    file_Trimesh = trimesh.Trimesh(vertices=file_dict[\"vertices\"],faces=file_dict[\"faces\"],face_normals=file_dict[\"face_normals\"])\n",
    "    l=file_Trimesh.vertex_normals\n",
    "\n",
    "    # 删除面元素\n",
    "    # file_Trimesh.faces=[]\n",
    "\n",
    "    # 输出为ply文件\n",
    "    # file_Trimesh.export(file_obj=\"../data/4-10/plys/\"+main_name+\".ply\",file_type=\"ply\",encoding=\"ascii\",vertex_normal=True)\n",
    "\n",
    "#！！！！！！！！！就差搞明白怎么让输出的文件里没有faces了！！！！！！！！！\n"
   ]
  },
  {
   "cell_type": "code",
   "execution_count": 23,
   "metadata": {},
   "outputs": [
    {
     "name": "stdout",
     "output_type": "stream",
     "text": [
      "\u001b[1;31mSignature:\u001b[0m \u001b[0mtrimesh\u001b[0m\u001b[1;33m.\u001b[0m\u001b[0mTrimesh\u001b[0m\u001b[1;33m.\u001b[0m\u001b[0mexport\u001b[0m\u001b[1;33m(\u001b[0m\u001b[0mself\u001b[0m\u001b[1;33m,\u001b[0m \u001b[0mfile_obj\u001b[0m\u001b[1;33m=\u001b[0m\u001b[1;32mNone\u001b[0m\u001b[1;33m,\u001b[0m \u001b[0mfile_type\u001b[0m\u001b[1;33m=\u001b[0m\u001b[1;32mNone\u001b[0m\u001b[1;33m,\u001b[0m \u001b[1;33m**\u001b[0m\u001b[0mkwargs\u001b[0m\u001b[1;33m)\u001b[0m\u001b[1;33m\u001b[0m\u001b[1;33m\u001b[0m\u001b[0m\n",
      "\u001b[1;31mDocstring:\u001b[0m\n",
      "Export the current mesh to a file object.\n",
      "If file_obj is a filename, file will be written there.\n",
      "\n",
      "Supported formats are stl, off, ply, collada, json,\n",
      "dict, glb, dict64, msgpack.\n",
      "\n",
      "Parameters\n",
      "------------\n",
      "file_obj : open writeable file object\n",
      "  str, file name where to save the mesh\n",
      "  None, return the export blob\n",
      "file_type : str\n",
      "  Which file type to export as, if `file_name`\n",
      "  is passed this is not required.\n",
      "\u001b[1;31mFile:\u001b[0m      c:\\users\\yaodo\\anaconda3\\lib\\site-packages\\trimesh\\base.py\n",
      "\u001b[1;31mType:\u001b[0m      function\n"
     ]
    }
   ],
   "source": [
    "trimesh.Trimesh.export?"
   ]
  }
 ],
 "metadata": {
  "kernelspec": {
   "display_name": "base",
   "language": "python",
   "name": "python3"
  },
  "language_info": {
   "codemirror_mode": {
    "name": "ipython",
    "version": 3
   },
   "file_extension": ".py",
   "mimetype": "text/x-python",
   "name": "python",
   "nbconvert_exporter": "python",
   "pygments_lexer": "ipython3",
   "version": "3.9.13"
  },
  "orig_nbformat": 4
 },
 "nbformat": 4,
 "nbformat_minor": 2
}
