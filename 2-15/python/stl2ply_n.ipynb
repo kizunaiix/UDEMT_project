{
 "cells": [
  {
   "cell_type": "code",
   "execution_count": 6,
   "metadata": {},
   "outputs": [],
   "source": [
    "import os\n",
    "import trimesh\n",
    "import smalltools as st"
   ]
  },
  {
   "cell_type": "code",
   "execution_count": 7,
   "metadata": {},
   "outputs": [],
   "source": [
    "fileList = os.listdir(\"../data/4-10/stls/\")\n",
    "\n",
    "for item in fileList:\n",
    "    main_name = item[0:-4]\n",
    "\n",
    "    # 读取文件并形成字典\n",
    "    with open(\"../data/4-10/stls/\"+item,\"r\",encoding=\"utf-8\") as f_obj:\n",
    "        file_dict = trimesh.exchange.stl.load_stl(f_obj)\n",
    "\n",
    "    # 把点挑出来作变换：归一化\n",
    "    file_dict[\"vertices\"] = st.pc_normalize(file_dict[\"vertices\"])\n",
    "\n",
    "    # 把归一化后的点用来形成Trimesh类\n",
    "    file_Trimesh = trimesh.Trimesh(vertices=file_dict[\"vertices\"],faces=file_dict[\"faces\"],face_normals=file_dict[\"face_normals\"])\n",
    "    vn=file_Trimesh.vertex_normals\n",
    "\n",
    "    # 删除面元素,实际是重建了一个没有面的file_Trimesh\n",
    "    # file_Trimesh2 = trimesh.Trimesh(vertices=file_dict[\"vertices\"],vertex_normals=vn)\n",
    "\n",
    "    # 输出为ply文件\n",
    "    file_Trimesh.export(file_obj=\"../data/4-10/plys/\"+main_name+\".ply\",file_type=\"ply\",vertex_normal=True,encoding=\"ascii\")\n",
    "\n"
   ]
  },
  {
   "cell_type": "code",
   "execution_count": 8,
   "metadata": {},
   "outputs": [],
   "source": []
  }
 ],
 "metadata": {
  "kernelspec": {
   "display_name": "base",
   "language": "python",
   "name": "python3"
  },
  "language_info": {
   "codemirror_mode": {
    "name": "ipython",
    "version": 3
   },
   "file_extension": ".py",
   "mimetype": "text/x-python",
   "name": "python",
   "nbconvert_exporter": "python",
   "pygments_lexer": "ipython3",
   "version": "3.9.13"
  },
  "orig_nbformat": 4
 },
 "nbformat": 4,
 "nbformat_minor": 2
}
