{
 "cells": [
  {
   "cell_type": "code",
   "execution_count": 11,
   "metadata": {},
   "outputs": [
    {
     "name": "stdout",
     "output_type": "stream",
     "text": [
      "/home/yaodong/codings/UDEMT/ttt42/utre\n",
      "\n",
      "/home/yaodong/codings/UDEMT/ttt42\n",
      "\n",
      "total 8\n",
      "-rw-r--r-- 1 yaodong yaodong    0 May  2 21:24 t1tt.ipynb\n",
      "-rw-r--r-- 1 yaodong yaodong  350 May  2 20:09 tt3.py\n",
      "drwxr-xr-x 3 yaodong yaodong 4096 May  2 21:23 utre\n",
      "\n"
     ]
    }
   ],
   "source": [
    "import subprocess\n",
    "\n",
    "result = subprocess.run(\"cd ./utre/;pwd\",shell=True,stdout=subprocess.PIPE)\n",
    "print(result.stdout.decode('utf-8'))\n",
    "result = subprocess.run(\"cd ./utre/\",shell=True,stdout=subprocess.PIPE)\n",
    "# print(result.stdout.decode('utf-8'))\n",
    "result = subprocess.run(\"pwd\",shell=True,stdout=subprocess.PIPE)\n",
    "print(result.stdout.decode('utf-8'))\n",
    "result = subprocess.run(\"ls -l\",shell=True,stdout=subprocess.PIPE)\n",
    "print(result.stdout.decode('utf-8'))"
   ]
  }
 ],
 "metadata": {
  "kernelspec": {
   "display_name": "base",
   "language": "python",
   "name": "python3"
  },
  "language_info": {
   "codemirror_mode": {
    "name": "ipython",
    "version": 3
   },
   "file_extension": ".py",
   "mimetype": "text/x-python",
   "name": "python",
   "nbconvert_exporter": "python",
   "pygments_lexer": "ipython3",
   "version": "3.9.13"
  },
  "orig_nbformat": 4
 },
 "nbformat": 4,
 "nbformat_minor": 2
}
