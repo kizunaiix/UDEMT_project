{
 "cells": [
  {
   "cell_type": "code",
   "execution_count": 1,
   "metadata": {},
   "outputs": [
    {
     "name": "stdout",
     "output_type": "stream",
     "text": [
      "Jupyter environment detected. Enabling Open3D WebVisualizer.\n",
      "[Open3D INFO] WebRTC GUI backend enabled.\n",
      "[Open3D INFO] WebRTCWindowSystem: HTTP handshake server disabled.\n"
     ]
    }
   ],
   "source": [
    "import open3d as o3d\n",
    "\n",
    "def convert_ply_to_obj_with_open3d(ply_file_path, obj_file_path):\n",
    "    # 读取PLY文件\n",
    "    mesh = o3d.io.read_triangle_mesh(ply_file_path)\n",
    "\n",
    "    # 保存为OBJ文件\n",
    "    o3d.io.write_triangle_mesh(obj_file_path, mesh)\n",
    "\n",
    "    print(f'Conversion complete. OBJ file saved as {obj_file_path}')\n",
    "\n",
    "\n",
    "\n",
    "\n"
   ]
  },
  {
   "cell_type": "code",
   "execution_count": 2,
   "metadata": {},
   "outputs": [
    {
     "name": "stdout",
     "output_type": "stream",
     "text": [
      "Conversion complete. OBJ file saved as surface_recon_BPA.obj\n"
     ]
    }
   ],
   "source": [
    "input_ply = 'surface_recon_BPA.ply'  # 替换为你的PLY文件路径\n",
    "output_obj = 'surface_recon_BPA.obj'  # 替换为你想要保存的OBJ文件路径\n",
    "convert_ply_to_obj_with_open3d(input_ply, output_obj)\n"
   ]
  }
 ],
 "metadata": {
  "kernelspec": {
   "display_name": "pytorch3d",
   "language": "python",
   "name": "python3"
  },
  "language_info": {
   "codemirror_mode": {
    "name": "ipython",
    "version": 3
   },
   "file_extension": ".py",
   "mimetype": "text/x-python",
   "name": "python",
   "nbconvert_exporter": "python",
   "pygments_lexer": "ipython3",
   "version": "3.9.17"
  },
  "orig_nbformat": 4
 },
 "nbformat": 4,
 "nbformat_minor": 2
}
