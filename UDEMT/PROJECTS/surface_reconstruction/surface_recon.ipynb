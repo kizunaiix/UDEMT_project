{
 "cells": [
  {
   "cell_type": "code",
   "execution_count": 1,
   "metadata": {},
   "outputs": [
    {
     "name": "stdout",
     "output_type": "stream",
     "text": [
      "Jupyter environment detected. Enabling Open3D WebVisualizer.\n",
      "[Open3D INFO] WebRTC GUI backend enabled.\n",
      "[Open3D INFO] WebRTCWindowSystem: HTTP handshake server disabled.\n"
     ]
    }
   ],
   "source": [
    "import numpy as np\n",
    "import open3d as o3d\n",
    "# import trimesh"
   ]
  },
  {
   "cell_type": "code",
   "execution_count": 2,
   "metadata": {},
   "outputs": [],
   "source": [
    "# def load_off_as_o3dTriangleMesh(off_file: str) -> o3d.geometry.TriangleMesh:\n",
    "#     \"\"\"读取off文件, 返回open3d的mesh\"\"\"\n",
    "#     with open(file=off_file, mode=\"r\") as f:\n",
    "#         my_mesh = trimesh.load_mesh(f, file_type=\"off\", resolver=None)\n",
    "#         my_o3dmesh = my_mesh.as_open3d\n",
    "#     return my_o3dmesh"
   ]
  },
  {
   "cell_type": "code",
   "execution_count": 3,
   "metadata": {},
   "outputs": [],
   "source": [
    "myo3d_PointCloud = o3d.io.read_point_cloud(\"./input.ply\", format='auto', remove_nan_points=False, remove_infinite_points=False, print_progress=False)\n",
    "myo3d_PointCloud.estimate_normals()"
   ]
  },
  {
   "cell_type": "code",
   "execution_count": 4,
   "metadata": {},
   "outputs": [
    {
     "data": {
      "text/plain": [
       "True"
      ]
     },
     "execution_count": 4,
     "metadata": {},
     "output_type": "execute_result"
    }
   ],
   "source": [
    "#This code cell do poisson_surface_reconstruction\n",
    "\n",
    "myo3d_PointCloud_poissoned = o3d.geometry.TriangleMesh.create_from_point_cloud_poisson(myo3d_PointCloud, depth=8, width=0, scale=1.1, linear_fit=False, n_threads=- 1)[0]\n",
    "bbox = myo3d_PointCloud.get_axis_aligned_bounding_box()\n",
    "myo3d_PointCloud_poissoned_cropped = myo3d_PointCloud_poissoned.crop(bbox)\n",
    "\n",
    "o3d.io.write_triangle_mesh(\"surface_recon_POISSON.ply\", myo3d_PointCloud_poissoned,write_ascii=True)\n",
    "o3d.io.write_triangle_mesh(\"surface_recon_POISSON_cropped.ply\", myo3d_PointCloud_poissoned_cropped,write_ascii=True)"
   ]
  },
  {
   "cell_type": "code",
   "execution_count": 12,
   "metadata": {},
   "outputs": [
    {
     "data": {
      "text/plain": [
       "True"
      ]
     },
     "execution_count": 12,
     "metadata": {},
     "output_type": "execute_result"
    }
   ],
   "source": [
    "# This code cell do BPA_surface_reconstruction\n",
    "\n",
    "distances = myo3d_PointCloud.compute_nearest_neighbor_distance()\n",
    "avg_dist = np.mean(distances)\n",
    "radius = 1.5 * avg_dist\n",
    "\n",
    "bpa_mesh = o3d.geometry.TriangleMesh.create_from_point_cloud_ball_pivoting(\n",
    "    myo3d_PointCloud, o3d.utility.DoubleVector([radius, 1.2 * radius, 1.5 * radius])\n",
    ")\n",
    "\n",
    "o3d.io.write_triangle_mesh(\"surface_recon_BPA.ply\", bpa_mesh, write_ascii=True)\n"
   ]
  },
  {
   "cell_type": "code",
   "execution_count": null,
   "metadata": {},
   "outputs": [],
   "source": []
  },
  {
   "cell_type": "code",
   "execution_count": null,
   "metadata": {},
   "outputs": [],
   "source": []
  }
 ],
 "metadata": {
  "kernelspec": {
   "display_name": "Python 3",
   "language": "python",
   "name": "python3"
  },
  "language_info": {
   "codemirror_mode": {
    "name": "ipython",
    "version": 3
   },
   "file_extension": ".py",
   "mimetype": "text/x-python",
   "name": "python",
   "nbconvert_exporter": "python",
   "pygments_lexer": "ipython3",
   "version": "3.9.17"
  },
  "orig_nbformat": 4
 },
 "nbformat": 4,
 "nbformat_minor": 2
}
