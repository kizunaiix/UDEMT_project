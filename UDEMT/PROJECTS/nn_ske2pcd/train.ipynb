{
 "cells": [
  {
   "cell_type": "code",
   "execution_count": 1,
   "metadata": {},
   "outputs": [],
   "source": [
    "import os\n",
    "import torch\n",
    "import torch.nn as nn\n",
    "import torch.optim as optim\n",
    "import pytorch3d as p3d\n",
    "import matplotlib.pyplot as plt\n",
    "from torch.utils.data import Dataset, DataLoader\n",
    "from pytorch3d.ops import sample_points_from_meshes\n",
    "from pytorch3d.io import load_obj, load_ply, save_ply\n",
    "from pytorch3d.loss import chamfer_distance"
   ]
  },
  {
   "cell_type": "code",
   "execution_count": 2,
   "metadata": {},
   "outputs": [],
   "source": [
    "### config\n",
    "\n",
    "# 定义点云数据的输入维度和输出维度\n",
    "input_dim = 3  # 每个点的特征维度\n",
    "output_dim = 3  # 输出点云的特征维度（可以与输入维度相同）\n",
    "\n",
    "device = \"cuda\" if torch.cuda.is_available() else \"cpu\"\n",
    "num_epochs = 20\n",
    "batch_size = 1\n",
    "\n",
    "sxxxxes = os.listdir(\"../../data/all_results/\")"
   ]
  },
  {
   "cell_type": "code",
   "execution_count": 3,
   "metadata": {},
   "outputs": [],
   "source": [
    "# 创建一个简单的全连接神经网络类\n",
    "class PointCloudFCNet(nn.Module):\n",
    "    def __init__(self, input_dim, output_dim):\n",
    "        super(PointCloudFCNet, self).__init__()\n",
    "        self.fc1 = nn.Linear(input_dim, 64)  # 输入层到隐藏层1\n",
    "        self.fc2 = nn.Linear(64, 128)  # 隐藏层1到隐藏层2\n",
    "        self.fc3 = nn.Linear(128, 256)  # 隐藏层2到隐藏层3\n",
    "        self.fc4 = nn.Linear(256, 128)  # 隐藏层3到隐藏层4\n",
    "        self.fc5 = nn.Linear(128, output_dim)  # 隐藏层4到输出层\n",
    "\n",
    "    def forward(self, x):\n",
    "        x = torch.relu(self.fc1(x))\n",
    "        x = torch.relu(self.fc2(x))\n",
    "        x = torch.relu(self.fc3(x))\n",
    "        x = torch.relu(self.fc4(x))\n",
    "        x = self.fc5(x)  # 输出层不使用激活函数\n",
    "        return x\n",
    "\n",
    "\n",
    "# DataSet类\n",
    "class TrainingSet(Dataset):\n",
    "    def __init__(self, s_name_list, transform=None) -> None:\n",
    "        self.input = [\n",
    "            f\"../../data/all_results/{sname}/0_sphere.obj\" for sname in s_name_list\n",
    "        ]\n",
    "        self.target = [\n",
    "            f\"../../data/all_results/{sname}/{sname}.ply\" for sname in s_name_list\n",
    "        ]\n",
    "        self.transform = transform\n",
    "\n",
    "    def __len__(self):\n",
    "        return len(self.input)\n",
    "\n",
    "    def __getitem__(self, index):\n",
    "        return load_obj(self.input[index],load_textures=False)[0].to(device), load_ply(self.target[index])[0].to(device)\n",
    "    \n",
    "    def get_target(self,input):\n",
    "        pass"
   ]
  },
  {
   "cell_type": "code",
   "execution_count": 4,
   "metadata": {},
   "outputs": [],
   "source": [
    "def plot_pointcloud(points, title=\"\"):\n",
    "    \"\"\"Sample points uniformly from the surface of the mesh.\"\"\"\n",
    "    x, y, z = points.clone().detach().cpu().squeeze().unbind(1)\n",
    "    fig = plt.figure(figsize=(5, 5))\n",
    "    ax = fig.add_subplot(111, projection=\"3d\")\n",
    "    ax.scatter3D(x, z, -y)\n",
    "    ax.set_xlabel(\"x\")\n",
    "    ax.set_ylabel(\"z\")\n",
    "    ax.set_zlabel(\"y\")\n",
    "    ax.set_title(title)\n",
    "    ax.view_init(190, 30)\n",
    "    plt.show()"
   ]
  },
  {
   "cell_type": "code",
   "execution_count": 5,
   "metadata": {},
   "outputs": [],
   "source": [
    "mydataset = TrainingSet(sxxxxes)\n",
    "data_loader = DataLoader(mydataset, batch_size=batch_size, shuffle=False)\n"
   ]
  },
  {
   "cell_type": "code",
   "execution_count": 6,
   "metadata": {},
   "outputs": [
    {
     "data": {
      "text/plain": [
       "PointCloudFCNet(\n",
       "  (fc1): Linear(in_features=3, out_features=64, bias=True)\n",
       "  (fc2): Linear(in_features=64, out_features=128, bias=True)\n",
       "  (fc3): Linear(in_features=128, out_features=256, bias=True)\n",
       "  (fc4): Linear(in_features=256, out_features=128, bias=True)\n",
       "  (fc5): Linear(in_features=128, out_features=3, bias=True)\n",
       ")"
      ]
     },
     "execution_count": 6,
     "metadata": {},
     "output_type": "execute_result"
    }
   ],
   "source": [
    "# 创建模型实例\n",
    "model = PointCloudFCNet(input_dim, output_dim).to(device)\n",
    "model"
   ]
  },
  {
   "cell_type": "code",
   "execution_count": 7,
   "metadata": {},
   "outputs": [],
   "source": [
    "# 定义损失函数和优化器\n",
    "criterion = chamfer_distance\n",
    "optimizer = optim.Adam(model.parameters(), lr=0.001)  # 使用Adam优化器"
   ]
  },
  {
   "cell_type": "code",
   "execution_count": 9,
   "metadata": {},
   "outputs": [
    {
     "name": "stdout",
     "output_type": "stream",
     "text": [
      "Epoch [1/20], Loss: 0.0035\n",
      "Epoch [2/20], Loss: 0.0034\n",
      "Epoch [3/20], Loss: 0.0034\n",
      "Epoch [4/20], Loss: 0.0032\n",
      "Epoch [5/20], Loss: 0.0030\n",
      "Epoch [6/20], Loss: 0.0031\n",
      "Epoch [7/20], Loss: 0.0030\n",
      "Epoch [8/20], Loss: 0.0029\n",
      "Epoch [9/20], Loss: 0.0028\n",
      "Epoch [10/20], Loss: 0.0030\n",
      "Epoch [11/20], Loss: 0.0030\n",
      "Epoch [12/20], Loss: 0.0029\n",
      "Epoch [13/20], Loss: 0.0031\n",
      "Epoch [14/20], Loss: 0.0030\n",
      "Epoch [15/20], Loss: 0.0031\n",
      "Epoch [16/20], Loss: 0.0029\n",
      "Epoch [17/20], Loss: 0.0028\n",
      "Epoch [18/20], Loss: 0.0030\n",
      "Epoch [19/20], Loss: 0.0029\n",
      "Epoch [20/20], Loss: 0.0028\n"
     ]
    }
   ],
   "source": [
    "# 训练模型\n",
    "\n",
    "for epoch in range(num_epochs):\n",
    "    for input_point_cloud,target_point_cloud in data_loader:\n",
    "        optimizer.zero_grad()\n",
    "        output_point_cloud = model(input_point_cloud)  # 前向传播\n",
    "        loss,_ = criterion(output_point_cloud, target_point_cloud)  # 计算损失\n",
    "        loss.backward()  # 反向传播\n",
    "        optimizer.step()  # 优化模型参数\n",
    "\n",
    "    print(f'Epoch [{epoch+1}/{num_epochs}], Loss: {loss.item():.4f}')\n",
    "    # if (epoch + 1) % 5 == 0:\n",
    "    #     print(f'Epoch [{epoch+1}/{num_epochs}], Loss: {loss.item():.4f}')\n",
    "\n",
    "        # plot_pointcloud(output_point_cloud)# 绘制点云"
   ]
  },
  {
   "cell_type": "code",
   "execution_count": 10,
   "metadata": {},
   "outputs": [
    {
     "data": {
      "text/plain": [
       "tensor([[[ 0.4002, -0.2044, -0.2243],\n",
       "         [ 0.5375, -0.2674, -0.2334],\n",
       "         [ 0.2285, -0.1704, -0.1763],\n",
       "         ...,\n",
       "         [ 0.0020,  0.5497, -0.4095],\n",
       "         [-0.0228,  0.5715, -0.4060],\n",
       "         [-0.0902,  0.4521, -0.4407]]], device='cuda:0',\n",
       "       grad_fn=<ViewBackward0>)"
      ]
     },
     "execution_count": 10,
     "metadata": {},
     "output_type": "execute_result"
    }
   ],
   "source": [
    "# 使用训练好的模型生成新的点云数据\n",
    "new_point_cloud = model(input_point_cloud) # TODO: 这里要改成用路径读一个点云\n",
    "new_point_cloud\n",
    "# 输出的new_point_cloud包含了经过神经网络处理后的新点云数据"
   ]
  },
  {
   "cell_type": "code",
   "execution_count": 12,
   "metadata": {},
   "outputs": [],
   "source": [
    "#看一眼新的输出长啥样\n",
    "# save_ply(\"./kkwd.ply\",new_point_cloud.squeeze())"
   ]
  }
 ],
 "metadata": {
  "kernelspec": {
   "display_name": "ske2pcd_pt201",
   "language": "python",
   "name": "python3"
  },
  "language_info": {
   "codemirror_mode": {
    "name": "ipython",
    "version": 3
   },
   "file_extension": ".py",
   "mimetype": "text/x-python",
   "name": "python",
   "nbconvert_exporter": "python",
   "pygments_lexer": "ipython3",
   "version": "3.9.17"
  },
  "orig_nbformat": 4
 },
 "nbformat": 4,
 "nbformat_minor": 2
}
