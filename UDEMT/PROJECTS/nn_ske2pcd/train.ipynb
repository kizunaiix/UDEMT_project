{
 "cells": [
  {
   "cell_type": "code",
   "execution_count": 1,
   "metadata": {},
   "outputs": [],
   "source": [
    "import torch\n",
    "import torch.nn as nn\n",
    "import torch.optim as optim"
   ]
  },
  {
   "cell_type": "code",
   "execution_count": 2,
   "metadata": {},
   "outputs": [],
   "source": [
    "# 定义点云数据的输入维度和输出维度\n",
    "input_dim = 3  # 每个点的特征维度\n",
    "output_dim = 3  # 输出点云的特征维度（可以与输入维度相同）\n",
    "\n",
    "# 创建一个简单的全连接神经网络类\n",
    "class PointCloudFCNet(nn.Module):\n",
    "    def __init__(self):\n",
    "        super(PointCloudFCNet, self).__init__()\n",
    "        self.fc1 = nn.Linear(input_dim, 64)  # 输入层到隐藏层1\n",
    "        self.fc2 = nn.Linear(64, 128)  # 隐藏层1到隐藏层2\n",
    "        self.fc3 = nn.Linear(128, 256)  # 隐藏层2到隐藏层3\n",
    "        self.fc4 = nn.Linear(256, 128)  # 隐藏层3到隐藏层4\n",
    "        self.fc5 = nn.Linear(128, output_dim)  # 隐藏层4到输出层\n",
    "\n",
    "    def forward(self, x):\n",
    "        x = torch.relu(self.fc1(x))\n",
    "        x = torch.relu(self.fc2(x))\n",
    "        x = torch.relu(self.fc3(x))\n",
    "        x = torch.relu(self.fc4(x))\n",
    "        x = self.fc5(x)  # 输出层不使用激活函数\n",
    "        return x\n"
   ]
  },
  {
   "cell_type": "code",
   "execution_count": 4,
   "metadata": {},
   "outputs": [
    {
     "data": {
      "text/plain": [
       "PointCloudFCNet(\n",
       "  (fc1): Linear(in_features=3, out_features=64, bias=True)\n",
       "  (fc2): Linear(in_features=64, out_features=128, bias=True)\n",
       "  (fc3): Linear(in_features=128, out_features=256, bias=True)\n",
       "  (fc4): Linear(in_features=256, out_features=128, bias=True)\n",
       "  (fc5): Linear(in_features=128, out_features=3, bias=True)\n",
       ")"
      ]
     },
     "execution_count": 4,
     "metadata": {},
     "output_type": "execute_result"
    }
   ],
   "source": [
    "# 创建模型实例\n",
    "model = PointCloudFCNet()\n",
    "model"
   ]
  },
  {
   "cell_type": "code",
   "execution_count": 5,
   "metadata": {},
   "outputs": [],
   "source": [
    "# 定义损失函数和优化器\n",
    "criterion = nn.MSELoss()  # 使用均方误差作为损失函数\n",
    "optimizer = optim.Adam(model.parameters(), lr=0.001)  # 使用Adam优化器\n"
   ]
  },
  {
   "cell_type": "code",
   "execution_count": 6,
   "metadata": {},
   "outputs": [
    {
     "data": {
      "text/plain": [
       "tensor([[ 0.6435,  0.3537, -0.0179],\n",
       "        [-0.0982,  1.1130, -0.7449],\n",
       "        [ 0.9892,  0.1201, -1.0190],\n",
       "        [ 0.0074, -0.0769,  0.4797],\n",
       "        [ 0.0890,  0.3836, -0.8749],\n",
       "        [ 0.1149, -2.1214,  0.2283],\n",
       "        [ 0.4214, -1.7091,  0.6073],\n",
       "        [-0.7279,  0.7734,  1.4882],\n",
       "        [-0.3199,  0.4695,  0.8873],\n",
       "        [-1.5824,  0.7212,  0.1230]])"
      ]
     },
     "execution_count": 6,
     "metadata": {},
     "output_type": "execute_result"
    }
   ],
   "source": [
    "# 示例输入点云数据（每个点的特征维度为3）\n",
    "input_point_cloud = torch.randn(10, input_dim)  # 10个点的点云数据\n",
    "input_point_cloud"
   ]
  },
  {
   "cell_type": "code",
   "execution_count": 7,
   "metadata": {},
   "outputs": [
    {
     "data": {
      "text/plain": [
       "tensor([[ 1.0068, -0.2279, -0.5689],\n",
       "        [-0.0732,  0.0417, -0.1805],\n",
       "        [ 0.4927, -1.0731, -0.6703],\n",
       "        [-0.0979,  0.8071,  0.9436],\n",
       "        [-0.9364, -2.0466, -0.5105],\n",
       "        [ 0.6254,  0.3325, -0.2109],\n",
       "        [-1.1563,  1.3631, -0.1989],\n",
       "        [ 0.3121,  0.2697,  0.0866],\n",
       "        [-0.0191,  1.3951,  1.1398],\n",
       "        [-0.2412, -0.9598, -0.4327]])"
      ]
     },
     "execution_count": 7,
     "metadata": {},
     "output_type": "execute_result"
    }
   ],
   "source": [
    "# 目标输出点云数据（与输入点云相同的形状）\n",
    "target_point_cloud = torch.randn(10, output_dim)\n",
    "target_point_cloud"
   ]
  },
  {
   "cell_type": "code",
   "execution_count": 8,
   "metadata": {},
   "outputs": [
    {
     "name": "stdout",
     "output_type": "stream",
     "text": [
      "Epoch [100/1000], Loss: 0.0000\n",
      "Epoch [200/1000], Loss: 0.0002\n",
      "Epoch [300/1000], Loss: 0.0000\n",
      "Epoch [400/1000], Loss: 0.0000\n",
      "Epoch [500/1000], Loss: 0.0002\n",
      "Epoch [600/1000], Loss: 0.0000\n",
      "Epoch [700/1000], Loss: 0.0000\n",
      "Epoch [800/1000], Loss: 0.0000\n",
      "Epoch [900/1000], Loss: 0.0000\n",
      "Epoch [1000/1000], Loss: 0.0000\n"
     ]
    }
   ],
   "source": [
    "# 训练模型\n",
    "num_epochs = 1000\n",
    "for epoch in range(num_epochs):\n",
    "    optimizer.zero_grad()\n",
    "    output_point_cloud = model(input_point_cloud)  # 前向传播\n",
    "    loss = criterion(output_point_cloud, target_point_cloud)  # 计算损失\n",
    "    loss.backward()  # 反向传播\n",
    "    optimizer.step()  # 优化模型参数\n",
    "\n",
    "    if (epoch + 1) % 100 == 0:\n",
    "        print(f'Epoch [{epoch+1}/{num_epochs}], Loss: {loss.item():.4f}')\n"
   ]
  },
  {
   "cell_type": "code",
   "execution_count": 10,
   "metadata": {},
   "outputs": [
    {
     "data": {
      "text/plain": [
       "tensor([[ 1.0068, -0.2279, -0.5689],\n",
       "        [-0.0732,  0.0417, -0.1805],\n",
       "        [ 0.4927, -1.0731, -0.6703],\n",
       "        [-0.0979,  0.8071,  0.9436],\n",
       "        [-0.9364, -2.0466, -0.5105],\n",
       "        [ 0.6254,  0.3325, -0.2109],\n",
       "        [-1.1563,  1.3631, -0.1989],\n",
       "        [ 0.3121,  0.2697,  0.0866],\n",
       "        [-0.0191,  1.3951,  1.1398],\n",
       "        [-0.2412, -0.9598, -0.4327]], grad_fn=<AddmmBackward0>)"
      ]
     },
     "execution_count": 10,
     "metadata": {},
     "output_type": "execute_result"
    }
   ],
   "source": [
    "# 使用训练好的模型生成新的点云数据\n",
    "new_point_cloud = model(input_point_cloud)\n",
    "new_point_cloud\n",
    "# 输出的new_point_cloud包含了经过神经网络处理后的新点云数据"
   ]
  }
 ],
 "metadata": {
  "kernelspec": {
   "display_name": "ske2pcd_pt201",
   "language": "python",
   "name": "python3"
  },
  "language_info": {
   "codemirror_mode": {
    "name": "ipython",
    "version": 3
   },
   "file_extension": ".py",
   "mimetype": "text/x-python",
   "name": "python",
   "nbconvert_exporter": "python",
   "pygments_lexer": "ipython3",
   "version": "3.9.17"
  },
  "orig_nbformat": 4
 },
 "nbformat": 4,
 "nbformat_minor": 2
}
