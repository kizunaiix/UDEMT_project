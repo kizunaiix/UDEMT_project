{
 "cells": [
  {
   "cell_type": "code",
   "execution_count": 1,
   "metadata": {},
   "outputs": [],
   "source": [
    "import os\n",
    "import torch\n",
    "import torch.nn as nn\n",
    "import torch.optim as optim\n",
    "import pytorch3d as p3d\n",
    "import matplotlib.pyplot as plt\n",
    "from torch.utils.data import Dataset, DataLoader\n",
    "from pytorch3d.structures import Meshes\n",
    "from pytorch3d.ops import sample_points_from_meshes\n",
    "from pytorch3d.io import load_obj, load_ply, save_ply\n",
    "from pytorch3d.loss import chamfer_distance"
   ]
  },
  {
   "cell_type": "code",
   "execution_count": 2,
   "metadata": {},
   "outputs": [],
   "source": [
    "### config\n",
    "\n",
    "test_date = \"10-02-1132\"\n",
    "# 定义点云数据的输入维度和输出维度\n",
    "input_dim = 3  # 每个点的特征维度\n",
    "output_dim = 3  # 输出点云的特征维度（可以与输入维度相同）\n",
    "\n",
    "device = \"cuda\" if torch.cuda.is_available() else \"cpu\"\n",
    "num_epochs = 200\n",
    "batch_size = 15\n",
    "\n",
    "sxxxxes = os.listdir(\"../../data/all_results/\")\n",
    "train_sxxxxes = sxxxxes[:372]\n",
    "test_sxxxxes = sxxxxes[372:]"
   ]
  },
  {
   "cell_type": "code",
   "execution_count": 3,
   "metadata": {},
   "outputs": [],
   "source": [
    "# 创建一个简单的全连接神经网络类\n",
    "class PointCloudFCNet(nn.Module):\n",
    "    def __init__(self, input_dim, output_dim):\n",
    "        super(PointCloudFCNet, self).__init__()\n",
    "        self.fc1 = nn.Linear(input_dim, 64)  # 输入层到隐藏层1\n",
    "        self.fc2 = nn.Linear(64, 256)  # 隐藏层1到隐藏层2\n",
    "        self.fc3 = nn.Linear(256, 512)  # 隐藏层2到隐藏层3\n",
    "        self.fc4 = nn.Linear(512, 256)  # 隐藏层3到隐藏层4\n",
    "        self.fc5 = nn.Linear(256, output_dim)  # 隐藏层4到输出层\n",
    "\n",
    "    def forward(self, x):\n",
    "        x = torch.relu(self.fc1(x))\n",
    "        x = torch.relu(self.fc2(x))\n",
    "        x = torch.relu(self.fc3(x))\n",
    "        x = torch.relu(self.fc4(x))\n",
    "        x = self.fc5(x)  # 输出层不使用激活函数\n",
    "        return x\n",
    "\n",
    "\n",
    "# DataSet类\n",
    "class TrainingSet(Dataset):\n",
    "    def __init__(self, s_name_list, transform=None, sample_num=5000) -> None:\n",
    "        self.input = [\n",
    "            f\"../../data/all_results/{sname}/0_sphere.obj\" for sname in s_name_list\n",
    "        ]\n",
    "        self.target = [\n",
    "            f\"../../data/all_results/{sname}/{sname}.ply\" for sname in s_name_list\n",
    "        ]\n",
    "        self.sample_num = sample_num\n",
    "        self.transform = transform\n",
    "\n",
    "    def __len__(self):\n",
    "        return len(self.input)\n",
    "\n",
    "    def __getitem__(self, index):\n",
    "        #对input采样5000个点\n",
    "        input_tensor_points, input_tensor_faces, _ = load_obj(self.input[index], load_textures=False)\n",
    "        input_mesh = Meshes([input_tensor_points], [input_tensor_faces.verts_idx]) #注意这里有个.verts_idx\n",
    "        input_tensor_points_sampled = sample_points_from_meshes(input_mesh,5000).squeeze(0)\n",
    "        #对output采样5000个点\n",
    "        target_tensor_points, target_tensor_faces = load_ply(self.target[index])\n",
    "        target_mesh = Meshes([target_tensor_points],[target_tensor_faces])\n",
    "        target_tensor_points_sampled = sample_points_from_meshes(target_mesh).squeeze(0)\n",
    "\n",
    "        return input_tensor_points_sampled.to(device),target_tensor_points_sampled.to(device)\n",
    "\n",
    "    def get_target(self, input):\n",
    "        raise NotImplemented"
   ]
  },
  {
   "cell_type": "code",
   "execution_count": 4,
   "metadata": {},
   "outputs": [],
   "source": [
    "#################################################################################\n",
    "# pts,faces = load_ply(f\"../../data/all_results/s0004_pulmonary_artery.nii.g_1/s0004_pulmonary_artery.nii.g_1.ply\")\n",
    "# mymesh = Meshes([pts],[faces])\n",
    "# a = sample_points_from_meshes(mymesh,5)\n",
    "# a = a.squeeze(0)\n",
    "# a\n",
    "# mymesh\n",
    "#################################################################################"
   ]
  },
  {
   "cell_type": "code",
   "execution_count": 5,
   "metadata": {},
   "outputs": [],
   "source": [
    "def plot_pointcloud(points, title=\"\"):\n",
    "    \"\"\"Sample points uniformly from the surface of the mesh.\"\"\"\n",
    "    x, y, z = points.clone().detach().cpu().squeeze().unbind(1)\n",
    "    fig = plt.figure(figsize=(5, 5))\n",
    "    ax = fig.add_subplot(111, projection=\"3d\")\n",
    "    ax.scatter3D(x, z, -y)\n",
    "    ax.set_xlabel(\"x\")\n",
    "    ax.set_ylabel(\"z\")\n",
    "    ax.set_zlabel(\"y\")\n",
    "    ax.set_title(title)\n",
    "    ax.view_init(190, 30)\n",
    "    plt.show()"
   ]
  },
  {
   "cell_type": "code",
   "execution_count": 6,
   "metadata": {},
   "outputs": [],
   "source": [
    "my_train_dataset = TrainingSet(train_sxxxxes)\n",
    "data_loader = DataLoader(my_train_dataset, batch_size=batch_size, shuffle=False)\n"
   ]
  },
  {
   "cell_type": "code",
   "execution_count": 7,
   "metadata": {},
   "outputs": [
    {
     "data": {
      "text/plain": [
       "PointCloudFCNet(\n",
       "  (fc1): Linear(in_features=3, out_features=64, bias=True)\n",
       "  (fc2): Linear(in_features=64, out_features=256, bias=True)\n",
       "  (fc3): Linear(in_features=256, out_features=512, bias=True)\n",
       "  (fc4): Linear(in_features=512, out_features=256, bias=True)\n",
       "  (fc5): Linear(in_features=256, out_features=3, bias=True)\n",
       ")"
      ]
     },
     "execution_count": 7,
     "metadata": {},
     "output_type": "execute_result"
    }
   ],
   "source": [
    "# 创建模型实例\n",
    "model = PointCloudFCNet(input_dim, output_dim).to(device)\n",
    "model"
   ]
  },
  {
   "cell_type": "code",
   "execution_count": 8,
   "metadata": {},
   "outputs": [],
   "source": [
    "# 定义损失函数和优化器\n",
    "criterion = chamfer_distance\n",
    "optimizer = optim.Adam(model.parameters(), lr=0.001)  # 使用Adam优化器"
   ]
  },
  {
   "cell_type": "code",
   "execution_count": 9,
   "metadata": {},
   "outputs": [
    {
     "data": {
      "text/plain": [
       "[tensor([[[-0.1819, -0.2157,  0.0700],\n",
       "          [-0.1685,  0.2583,  0.1361],\n",
       "          [ 0.4801, -0.2360, -0.0906],\n",
       "          ...,\n",
       "          [ 0.3722,  0.0026,  0.0917],\n",
       "          [-0.2036,  0.3814,  0.0016],\n",
       "          [-0.1303,  0.7276, -0.1171]],\n",
       " \n",
       "         [[-0.0755,  0.6681, -0.3534],\n",
       "          [-0.0879,  0.5676, -0.4760],\n",
       "          [ 0.0429,  0.2966, -0.2191],\n",
       "          ...,\n",
       "          [-0.2823,  0.4366, -0.1093],\n",
       "          [ 0.0848,  0.2530,  0.1054],\n",
       "          [ 0.0589, -0.3290,  0.0875]],\n",
       " \n",
       "         [[-0.1538, -0.3456,  0.0956],\n",
       "          [-0.1062,  0.1477,  0.2380],\n",
       "          [ 0.1707,  0.2002,  0.0335],\n",
       "          ...,\n",
       "          [ 0.8604, -0.0865, -0.0585],\n",
       "          [-0.4789,  0.4589, -0.2089],\n",
       "          [ 0.1806,  0.2717,  0.0115]],\n",
       " \n",
       "         ...,\n",
       " \n",
       "         [[-0.3271,  0.3688, -0.1441],\n",
       "          [-0.1728,  0.1301, -0.0534],\n",
       "          [-0.2358,  0.0214,  0.0781],\n",
       "          ...,\n",
       "          [-0.0597,  0.3891, -0.2774],\n",
       "          [-0.0427,  0.1593, -0.1176],\n",
       "          [ 0.5415, -0.3348, -0.2127]],\n",
       " \n",
       "         [[-0.4283,  0.2919, -0.1518],\n",
       "          [ 0.5011, -0.0970,  0.0115],\n",
       "          [-0.2920,  0.1812, -0.1729],\n",
       "          ...,\n",
       "          [ 0.6793,  0.0222, -0.2936],\n",
       "          [ 0.3936,  0.0351, -0.1020],\n",
       "          [-0.0266,  0.3195, -0.1054]],\n",
       " \n",
       "         [[ 0.2736, -0.3323, -0.1477],\n",
       "          [ 0.3163, -0.0688, -0.1220],\n",
       "          [-0.3562,  0.5618, -0.1108],\n",
       "          ...,\n",
       "          [-0.0539,  0.2595,  0.0613],\n",
       "          [ 0.2432, -0.2580,  0.0979],\n",
       "          [ 0.2840, -0.3092, -0.0339]]], device='cuda:0'),\n",
       " tensor([[[-0.3491,  0.6305, -0.1231],\n",
       "          [ 0.2887, -0.1271,  0.1104],\n",
       "          [ 0.0673,  0.7120, -0.1270],\n",
       "          ...,\n",
       "          [-0.2856,  0.4797, -0.0728],\n",
       "          [ 0.0453, -0.0063,  0.0083],\n",
       "          [-0.1904, -0.3406,  0.2483]],\n",
       " \n",
       "         [[ 0.3845,  0.0475,  0.0675],\n",
       "          [-0.2789, -0.0957,  0.2175],\n",
       "          [-0.3340, -0.4460,  0.2928],\n",
       "          ...,\n",
       "          [-0.7108, -0.4870, -0.2360],\n",
       "          [ 0.6458, -0.3512, -0.0963],\n",
       "          [-0.2398, -0.0114,  0.2181]],\n",
       " \n",
       "         [[-0.3333,  0.3321, -0.1263],\n",
       "          [-0.4227,  0.4340, -0.1606],\n",
       "          [ 0.5429, -0.1455,  0.1546],\n",
       "          ...,\n",
       "          [ 0.0509, -0.2626,  0.2253],\n",
       "          [-0.2049,  0.2814,  0.1133],\n",
       "          [-0.5825, -0.5272, -0.0095]],\n",
       " \n",
       "         ...,\n",
       " \n",
       "         [[ 0.2149, -0.2635,  0.0167],\n",
       "          [ 0.0882,  0.4302,  0.0933],\n",
       "          [ 0.0307,  0.0483,  0.2121],\n",
       "          ...,\n",
       "          [ 0.3396, -0.2018,  0.1066],\n",
       "          [-0.2402,  0.6100, -0.2022],\n",
       "          [ 0.1647,  0.0783,  0.1234]],\n",
       " \n",
       "         [[-0.3828,  0.2812,  0.0576],\n",
       "          [-0.2090,  0.7121,  0.0154],\n",
       "          [-0.2290, -0.0878,  0.0323],\n",
       "          ...,\n",
       "          [-0.0612,  0.4085, -0.1901],\n",
       "          [-0.4052,  0.6446, -0.2500],\n",
       "          [-0.4057,  0.3517,  0.0369]],\n",
       " \n",
       "         [[ 0.6344, -0.1987, -0.0031],\n",
       "          [-0.3693,  0.6860, -0.3183],\n",
       "          [ 0.5121, -0.2810, -0.2998],\n",
       "          ...,\n",
       "          [-0.0927,  0.4980,  0.0230],\n",
       "          [ 0.7297, -0.2760, -0.3305],\n",
       "          [-0.3606, -0.6267,  0.2396]]], device='cuda:0')]"
      ]
     },
     "execution_count": 9,
     "metadata": {},
     "output_type": "execute_result"
    }
   ],
   "source": [
    "next(iter(data_loader))"
   ]
  },
  {
   "cell_type": "code",
   "execution_count": 10,
   "metadata": {},
   "outputs": [],
   "source": [
    "# 打开log文件准备写入训练结果\n",
    "logf = open(f\"./logs/{test_date}.txt\",\"w\")\n",
    "\n",
    "# 训练模型\n",
    "for epoch in range(num_epochs):\n",
    "    for input_point_cloud,target_point_cloud in data_loader:\n",
    "        optimizer.zero_grad()\n",
    "        output_point_cloud = model(input_point_cloud)  # 前向传播\n",
    "        loss,_ = criterion(output_point_cloud, target_point_cloud)  # 计算损失\n",
    "        loss.backward()  # 反向传播\n",
    "        optimizer.step()  # 优化模型参数\n",
    "\n",
    "    print(f'Epoch [{epoch+1}/{num_epochs}], Loss: {loss.item():.4f}',file=logf)\n",
    "    logf.flush()\n",
    "    # if (epoch + 1) % 5 == 0:\n",
    "    #     print(f'Epoch [{epoch+1}/{num_epochs}], Loss: {loss.item():.4f}')\n",
    "\n",
    "        # plot_pointcloud(output_point_cloud)# 绘制点云\n",
    "\n",
    "\n",
    "logf.close()"
   ]
  },
  {
   "cell_type": "code",
   "execution_count": 11,
   "metadata": {},
   "outputs": [],
   "source": [
    "# 保存模型\n",
    "\n",
    "torch.save(model,f\"./models/{test_date}.pt\")"
   ]
  },
  {
   "cell_type": "code",
   "execution_count": 12,
   "metadata": {},
   "outputs": [],
   "source": [
    "# 加载模型\n",
    "\n",
    "model = torch.load(f\"./models/{test_date}.pt\")"
   ]
  },
  {
   "cell_type": "code",
   "execution_count": 13,
   "metadata": {},
   "outputs": [
    {
     "data": {
      "text/plain": [
       "tensor([[-0.0243,  0.0037,  0.3169],\n",
       "        [-0.0324,  0.0678,  0.3108],\n",
       "        [-0.0558,  0.0657,  0.3169],\n",
       "        ...,\n",
       "        [ 0.8447, -0.1887, -0.2681],\n",
       "        [ 0.8248, -0.1783, -0.2700],\n",
       "        [ 0.7911, -0.2224, -0.2758]], device='cuda:0',\n",
       "       grad_fn=<AddmmBackward0>)"
      ]
     },
     "execution_count": 13,
     "metadata": {},
     "output_type": "execute_result"
    }
   ],
   "source": [
    "# 使用训练好的模型生成新的点云数据\n",
    "try_input_point_cloud,_,_ = load_obj(\"../../data/all_results/s1272_pulmonary_artery.nii.g_1/0_sphere.obj\", load_textures=False)\n",
    "new_point_cloud = model(try_input_point_cloud.to(device))\n",
    "new_point_cloud\n",
    "# 输出的new_point_cloud包含了经过神经网络处理后的新点云数据"
   ]
  },
  {
   "cell_type": "code",
   "execution_count": 14,
   "metadata": {},
   "outputs": [],
   "source": [
    "#看一眼新的输出长啥样\n",
    "save_ply(f\"./plys/{test_date}.ply\",new_point_cloud)"
   ]
  }
 ],
 "metadata": {
  "kernelspec": {
   "display_name": "ske2pcd_pt201",
   "language": "python",
   "name": "python3"
  },
  "language_info": {
   "codemirror_mode": {
    "name": "ipython",
    "version": 3
   },
   "file_extension": ".py",
   "mimetype": "text/x-python",
   "name": "python",
   "nbconvert_exporter": "python",
   "pygments_lexer": "ipython3",
   "version": "3.9.17"
  },
  "orig_nbformat": 4
 },
 "nbformat": 4,
 "nbformat_minor": 2
}
