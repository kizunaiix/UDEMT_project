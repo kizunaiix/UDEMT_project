{
 "cells": [
  {
   "cell_type": "code",
   "execution_count": 14,
   "metadata": {},
   "outputs": [
    {
     "data": {
      "text/plain": [
       "'\\\\\\\\wsl.localhost\\\\Ubuntu-18.04\\\\home\\\\yaodong\\\\python_projects\\\\UDEMT\\\\pulmonaryArterys_discarded'"
      ]
     },
     "execution_count": 14,
     "metadata": {},
     "output_type": "execute_result"
    }
   ],
   "source": [
    "import os\n",
    "\n",
    "path = os.getcwd()\n",
    "path\n"
   ]
  },
  {
   "cell_type": "code",
   "execution_count": 15,
   "metadata": {},
   "outputs": [],
   "source": [
    "a = os.listdir(path)\n",
    "a\n",
    "\n",
    "f=open(\"discard.txt\",\"w\")\n",
    "for i in a:\n",
    "    f.writelines(i + \"\\n\")\n",
    "\n",
    "\n"
   ]
  }
 ],
 "metadata": {
  "kernelspec": {
   "display_name": "Python 3",
   "language": "python",
   "name": "python3"
  },
  "language_info": {
   "codemirror_mode": {
    "name": "ipython",
    "version": 3
   },
   "file_extension": ".py",
   "mimetype": "text/x-python",
   "name": "python",
   "nbconvert_exporter": "python",
   "pygments_lexer": "ipython3",
   "version": "3.9.1"
  },
  "orig_nbformat": 4,
  "vscode": {
   "interpreter": {
    "hash": "343c0a9bb0206b8d4748b7ea14945434d6ca4efe71b4f4fbf89872213bd697b0"
   }
  }
 },
 "nbformat": 4,
 "nbformat_minor": 2
}
